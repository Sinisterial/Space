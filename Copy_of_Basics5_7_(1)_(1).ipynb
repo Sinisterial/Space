{
  "cells": [
    {
      "cell_type": "markdown",
      "metadata": {
        "id": "view-in-github",
        "colab_type": "text"
      },
      "source": [
        "<a href=\"https://colab.research.google.com/github/Sinisterial/Space/blob/main/Copy_of_Basics5_7_(1)_(1).ipynb\" target=\"_parent\"><img src=\"https://colab.research.google.com/assets/colab-badge.svg\" alt=\"Open In Colab\"/></a>"
      ]
    },
    {
      "cell_type": "code",
      "execution_count": null,
      "metadata": {
        "colab": {
          "base_uri": "https://localhost:8080/"
        },
        "id": "bsZpmsg1VGVE",
        "outputId": "c60b89c9-de76-481f-9cd1-908d45a1f216"
      },
      "outputs": [
        {
          "data": {
            "text/plain": [
              "11"
            ]
          },
          "execution_count": 1,
          "metadata": {},
          "output_type": "execute_result"
        }
      ],
      "source": [
        "5+6"
      ]
    },
    {
      "cell_type": "code",
      "execution_count": null,
      "metadata": {
        "colab": {
          "base_uri": "https://localhost:8080/"
        },
        "id": "XrinGQWfYJME",
        "outputId": "b944d319-3861-484b-f0df-44dc8050d1f4"
      },
      "outputs": [
        {
          "data": {
            "text/plain": [
              "0.8888888888888888"
            ]
          },
          "execution_count": 4,
          "metadata": {},
          "output_type": "execute_result"
        }
      ],
      "source": [
        "8/9"
      ]
    },
    {
      "cell_type": "code",
      "execution_count": null,
      "metadata": {
        "colab": {
          "base_uri": "https://localhost:8080/"
        },
        "id": "k0f5xpweYNKt",
        "outputId": "0d1a561f-31aa-42cb-b25c-435691ca3675"
      },
      "outputs": [
        {
          "name": "stdout",
          "output_type": "stream",
          "text": [
            "Enter the 1st number: 4\n",
            "Enter the 2nd number: 5\n",
            "9\n"
          ]
        }
      ],
      "source": [
        "a = int(input(\"Enter the 1st number: \"))\n",
        "b = int(input(\"Enter the 2nd number: \"))\n",
        "c = a+b\n",
        "\n",
        "print(c)"
      ]
    },
    {
      "cell_type": "code",
      "execution_count": null,
      "metadata": {
        "colab": {
          "base_uri": "https://localhost:8080/"
        },
        "id": "2sDd0eXKYTOI",
        "outputId": "367ed7cb-2dae-476c-b4f9-d6417445f4fa"
      },
      "outputs": [
        {
          "data": {
            "text/plain": [
              "int"
            ]
          },
          "execution_count": 10,
          "metadata": {},
          "output_type": "execute_result"
        }
      ],
      "source": [
        "type(a)"
      ]
    },
    {
      "cell_type": "code",
      "execution_count": null,
      "metadata": {
        "colab": {
          "base_uri": "https://localhost:8080/"
        },
        "id": "dR6Gs3rjYl9B",
        "outputId": "dd1f01ba-d55f-4f6d-bf6c-becf87c5bf0e"
      },
      "outputs": [
        {
          "data": {
            "text/plain": [
              "int"
            ]
          },
          "execution_count": 11,
          "metadata": {},
          "output_type": "execute_result"
        }
      ],
      "source": [
        "type(b)"
      ]
    },
    {
      "cell_type": "code",
      "execution_count": null,
      "metadata": {
        "colab": {
          "base_uri": "https://localhost:8080/"
        },
        "id": "zpuC1L3fYoGz",
        "outputId": "aa667003-8bf6-4124-d300-354d470be546"
      },
      "outputs": [
        {
          "name": "stdout",
          "output_type": "stream",
          "text": [
            "Enter the value of x: 2\n",
            "Result is:  11\n"
          ]
        }
      ],
      "source": [
        "#Mathematical Equation\n",
        "\n",
        "x = int(input(\"Enter the value of x: \"))\n",
        "y= 3*x+5\n",
        "\n",
        "print(\"Result is: \",y)"
      ]
    },
    {
      "cell_type": "code",
      "execution_count": null,
      "metadata": {
        "colab": {
          "base_uri": "https://localhost:8080/"
        },
        "id": "v1iHG6qlZQvQ",
        "outputId": "79e40476-bc91-492d-b828-cfc989376a81"
      },
      "outputs": [
        {
          "data": {
            "text/plain": [
              "5.0"
            ]
          },
          "execution_count": 15,
          "metadata": {},
          "output_type": "execute_result"
        }
      ],
      "source": [
        "import math\n",
        "math.sqrt(25)"
      ]
    },
    {
      "cell_type": "code",
      "execution_count": null,
      "metadata": {
        "colab": {
          "base_uri": "https://localhost:8080/"
        },
        "id": "IH0bMG7PciC5",
        "outputId": "3c016073-15db-409a-ee37-8f207b445f73"
      },
      "outputs": [
        {
          "data": {
            "text/plain": [
              "8"
            ]
          },
          "execution_count": 16,
          "metadata": {},
          "output_type": "execute_result"
        }
      ],
      "source": [
        "2**3"
      ]
    },
    {
      "cell_type": "code",
      "execution_count": null,
      "metadata": {
        "id": "LC02Fk67cNxH"
      },
      "outputs": [],
      "source": [
        "import keyword"
      ]
    },
    {
      "cell_type": "code",
      "execution_count": null,
      "metadata": {
        "colab": {
          "base_uri": "https://localhost:8080/"
        },
        "id": "1kdJbLDRdEJR",
        "outputId": "2a04e59c-7280-463e-aac4-efad65a66703"
      },
      "outputs": [
        {
          "data": {
            "text/plain": [
              "35"
            ]
          },
          "execution_count": 19,
          "metadata": {},
          "output_type": "execute_result"
        }
      ],
      "source": [
        "len(keyword.kwlist)"
      ]
    },
    {
      "cell_type": "code",
      "execution_count": null,
      "metadata": {
        "id": "2h8sKOCndGNQ"
      },
      "outputs": [],
      "source": [
        "keyword.kwlist"
      ]
    },
    {
      "cell_type": "code",
      "execution_count": null,
      "metadata": {
        "colab": {
          "base_uri": "https://localhost:8080/"
        },
        "id": "XZm4mIHLdVlh",
        "outputId": "60f150d3-5f15-4b5c-fef1-f60721f61a48"
      },
      "outputs": [
        {
          "name": "stdout",
          "output_type": "stream",
          "text": [
            "Enter the value of x: 9\n",
            "Result of the equation is:  944\n"
          ]
        }
      ],
      "source": [
        "#Question: 1\n",
        "x = int(input(\"Enter the value of x: \"))\n",
        "\n",
        "y = x**3+2*x**2+5*x+8\n",
        "\n",
        "print(\"Result of the equation is: \",y)"
      ]
    },
    {
      "cell_type": "code",
      "execution_count": null,
      "metadata": {
        "colab": {
          "base_uri": "https://localhost:8080/"
        },
        "id": "gQKDYNruR_fq",
        "outputId": "2a9aeab1-4e3e-4aa4-f55a-bdc1485cdc2f"
      },
      "outputs": [
        {
          "name": "stdout",
          "output_type": "stream",
          "text": [
            "Enter the value of x: 3\n",
            "Result is:  3.8333333333333335\n"
          ]
        }
      ],
      "source": [
        "#Question: 2\n",
        "\n",
        "x = int(input(\"Enter the value of x: \"))\n",
        "\n",
        "y = (x**2+17*x+9)/18\n",
        "\n",
        "print(\"Result is: \",y)"
      ]
    },
    {
      "cell_type": "code",
      "execution_count": null,
      "metadata": {
        "colab": {
          "base_uri": "https://localhost:8080/"
        },
        "id": "1ON09cKuSiJU",
        "outputId": "74736d78-f37c-4f5e-fb50-8b9a8dbf840d"
      },
      "outputs": [
        {
          "name": "stdout",
          "output_type": "stream",
          "text": [
            "Enter the value of x: 6\n",
            "Result is:  2.212653007891959\n"
          ]
        }
      ],
      "source": [
        "#Question: 3\n",
        "x = int(input(\"Enter the value of x: \"))\n",
        "\n",
        "import math\n",
        "\n",
        "y = math.sqrt((x**3+2*x+7)/(8*x))\n",
        "\n",
        "print(\"Result is: \",y)\n"
      ]
    },
    {
      "cell_type": "markdown",
      "metadata": {
        "id": "Y8oDOBe2X9dr"
      },
      "source": [
        "Conditional Statement"
      ]
    },
    {
      "cell_type": "code",
      "execution_count": null,
      "metadata": {
        "colab": {
          "base_uri": "https://localhost:8080/"
        },
        "id": "s9hjrX7eSY9b",
        "outputId": "f4b0eeea-a38f-4038-b9f3-be1f1dc40e57"
      },
      "outputs": [
        {
          "name": "stdout",
          "output_type": "stream",
          "text": [
            "Hello\n"
          ]
        }
      ],
      "source": [
        "a = 8\n",
        "b = 9\n",
        "c = 15\n",
        "\n",
        "if a<b:\n",
        "  print(\"Hello\")\n",
        "\n",
        "elif c>b:\n",
        "  print(\"Hey\")\n",
        "\n",
        "else:\n",
        "  print(\"Bye.............\")"
      ]
    },
    {
      "cell_type": "code",
      "execution_count": null,
      "metadata": {
        "colab": {
          "base_uri": "https://localhost:8080/"
        },
        "id": "B0XdJxpAZV6y",
        "outputId": "28e29375-9f03-4cc9-cf77-45737e0802a5"
      },
      "outputs": [
        {
          "name": "stdout",
          "output_type": "stream",
          "text": [
            "Enter the 1st number: 12\n",
            "Enter the 2nd number: 4\n",
            "Enter the 3rd number: 18\n",
            "2.Greate number: is :  18\n"
          ]
        }
      ],
      "source": [
        "#Finding the greatest number from given three number\n",
        "\n",
        "\n",
        "a = int(input(\"Enter the 1st number: \"))\n",
        "b = int(input(\"Enter the 2nd number: \"))\n",
        "c = int(input('Enter the 3rd number: '))\n",
        "\n",
        "if a>b:\n",
        "  if a>c:\n",
        "    print(\"1. Greatest number is: \",a)\n",
        "\n",
        "  else:\n",
        "    print(\"2.Greate number: is : \",c)\n",
        "\n",
        "elif b>a:\n",
        "  if b>c:\n",
        "    print(\"3. Greatest number is: \",b)\n",
        "\n",
        "  else:\n",
        "    print(\"4. Greatest number is: \",c)\n",
        "\n"
      ]
    },
    {
      "cell_type": "markdown",
      "metadata": {
        "id": "Bkj5BrXSb9oK"
      },
      "source": [
        "Login username and password"
      ]
    },
    {
      "cell_type": "code",
      "execution_count": null,
      "metadata": {
        "colab": {
          "base_uri": "https://localhost:8080/"
        },
        "id": "1o7KV_r4b7pa",
        "outputId": "cbe8bcf7-713e-4052-a43f-58640feebe1d"
      },
      "outputs": [
        {
          "name": "stdout",
          "output_type": "stream",
          "text": [
            "Enter the username: rahul\n",
            "Enter the password: ajksdjk\n",
            "Password is incorrect!!!!\n"
          ]
        }
      ],
      "source": [
        "#rahul\n",
        "#rahul123\n",
        "\n",
        "user = input(\"Enter the username: \")\n",
        "\n",
        "if user==\"rahul\":\n",
        "  password = input(\"Enter the password: \")\n",
        "  if password==\"rahul123\":\n",
        "    print(\"Login successfully!!!!!!!!!!!!!!\")\n",
        "\n",
        "  else:\n",
        "    print(\"Password is incorrect!!!!\")\n",
        "\n",
        "else:\n",
        "  print(\"Username is incorrect!!!\")"
      ]
    },
    {
      "cell_type": "markdown",
      "metadata": {
        "id": "_nmgf_uFijPz"
      },
      "source": [
        "**While Loop** "
      ]
    },
    {
      "cell_type": "code",
      "execution_count": null,
      "metadata": {
        "colab": {
          "base_uri": "https://localhost:8080/"
        },
        "id": "kowgVMb8hgEK",
        "outputId": "715cb7cd-c5d9-4c18-818c-b13d68ce9012"
      },
      "outputs": [
        {
          "name": "stdout",
          "output_type": "stream",
          "text": [
            "Number is:  1\n",
            "Number is:  2\n",
            "Number is:  3\n",
            "Number is:  4\n",
            "Number is:  5\n",
            "Number is:  6\n",
            "Number is:  7\n",
            "Number is:  8\n",
            "Number is:  9\n",
            "Number is:  10\n",
            "Bye 11\n"
          ]
        }
      ],
      "source": [
        "a = 1\n",
        "\n",
        "while a<=10:\n",
        "  print(\"Number is: \",a)\n",
        "  a = a+1\n",
        "else:\n",
        "  print(\"Bye\",a)"
      ]
    },
    {
      "cell_type": "markdown",
      "metadata": {
        "id": "1x0BfJx4beYa"
      },
      "source": [
        "Nested While Loop"
      ]
    },
    {
      "cell_type": "code",
      "execution_count": null,
      "metadata": {
        "id": "oN4rCOisbgZo"
      },
      "outputs": [],
      "source": [
        "a = 1\n",
        "while a<=100:\n",
        "  print(\"hello\",a)\n",
        "  a =a+1\n",
        "  while a>30 and a<=50:\n",
        "    print(\"Hi\",a)\n",
        "    a+=1\n",
        "\n",
        "  while a>70 and a<=90:\n",
        "    print(\"Hey\",a)\n",
        "    a = a+1"
      ]
    },
    {
      "cell_type": "code",
      "execution_count": null,
      "metadata": {
        "colab": {
          "base_uri": "https://localhost:8080/"
        },
        "id": "KoV9XeIqbi4X",
        "outputId": "935ff9b8-74dd-4b25-c691-7f99753a0f90"
      },
      "outputs": [
        {
          "name": "stdout",
          "output_type": "stream",
          "text": [
            "Enter the username: alksjdflk\n",
            "Username is incorrect!!!\n",
            "Enter the username: rahul\n",
            "Enter the password: rahul123\n",
            "Login successfully!!!!!!!!!!!!!!\n"
          ]
        }
      ],
      "source": [
        "#rahul\n",
        "#rahul123\n",
        "\n",
        "while True:\n",
        "  user = input(\"Enter the username: \")\n",
        "\n",
        "  if user==\"rahul\":\n",
        "    password = input(\"Enter the password: \")\n",
        "    if password==\"rahul123\":\n",
        "      print(\"Login successfully!!!!!!!!!!!!!!\")\n",
        "      break\n",
        "\n",
        "    else:\n",
        "      print(\"Password is incorrect!!!!\")\n",
        "\n",
        "  else:\n",
        "    print(\"Username is incorrect!!!\")"
      ]
    },
    {
      "cell_type": "markdown",
      "metadata": {
        "id": "dn7Wjje5iQJz"
      },
      "source": [
        "For Loop"
      ]
    },
    {
      "cell_type": "code",
      "execution_count": null,
      "metadata": {
        "colab": {
          "base_uri": "https://localhost:8080/"
        },
        "id": "IAxWh2BGcrfW",
        "outputId": "681105c3-902a-4135-8d4e-241ef742ada1"
      },
      "outputs": [
        {
          "name": "stdout",
          "output_type": "stream",
          "text": [
            "1\n",
            "2\n",
            "3\n",
            "4\n",
            "5\n",
            "6\n",
            "7\n",
            "8\n",
            "9\n",
            "10\n"
          ]
        }
      ],
      "source": [
        "for v in range(1,11):\n",
        "  print(v)"
      ]
    },
    {
      "cell_type": "code",
      "execution_count": null,
      "metadata": {
        "colab": {
          "base_uri": "https://localhost:8080/"
        },
        "id": "SHjIM3DmkU4R",
        "outputId": "85a0aa65-eefe-4603-afce-c98bd40309b1"
      },
      "outputs": [
        {
          "name": "stdout",
          "output_type": "stream",
          "text": [
            "Orange\n",
            "Banana\n",
            "BananaBananaBananaBananaBanana\n",
            "Apple\n",
            "Kivi\n"
          ]
        }
      ],
      "source": [
        "f = [\"Orange\",\"Banana\",\"Apple\",\"Kivi\"]\n",
        "\n",
        "for gt in f:\n",
        "  print(gt)"
      ]
    },
    {
      "cell_type": "code",
      "execution_count": null,
      "metadata": {
        "colab": {
          "base_uri": "https://localhost:8080/"
        },
        "id": "4G9bDoG8kuI0",
        "outputId": "52fa36a9-e947-4c07-c527-0af531dcd51a"
      },
      "outputs": [
        {
          "name": "stdout",
          "output_type": "stream",
          "text": [
            "Sunday\n",
            "Monday\n",
            "Tuesday\n",
            "Bye\n"
          ]
        }
      ],
      "source": [
        "for t in [\"Sunday\",\"Monday\",\"Tuesday\"]:\n",
        "  print(t)\n",
        "\n",
        "print(\"Bye\")"
      ]
    },
    {
      "cell_type": "markdown",
      "metadata": {
        "id": "Y0VivDOQqOfC"
      },
      "source": [
        "# **Operators**"
      ]
    },
    {
      "cell_type": "code",
      "execution_count": null,
      "metadata": {
        "colab": {
          "base_uri": "https://localhost:8080/"
        },
        "id": "TcQXUyTmqN68",
        "outputId": "e38fdf3d-8833-48cc-c1e9-16f8c71762d0"
      },
      "outputs": [
        {
          "data": {
            "text/plain": [
              "2.4"
            ]
          },
          "execution_count": 23,
          "metadata": {},
          "output_type": "execute_result"
        }
      ],
      "source": [
        "12/5"
      ]
    },
    {
      "cell_type": "code",
      "execution_count": null,
      "metadata": {
        "colab": {
          "base_uri": "https://localhost:8080/"
        },
        "id": "LQT1mSJhqZYt",
        "outputId": "bf6fd545-bf54-4500-ed52-4b1ae40b223d"
      },
      "outputs": [
        {
          "data": {
            "text/plain": [
              "2"
            ]
          },
          "execution_count": 24,
          "metadata": {},
          "output_type": "execute_result"
        }
      ],
      "source": [
        "12%5"
      ]
    },
    {
      "cell_type": "code",
      "execution_count": null,
      "metadata": {
        "colab": {
          "base_uri": "https://localhost:8080/"
        },
        "id": "lrybUu5Sqig1",
        "outputId": "a6328747-6e76-4ca4-b022-b666bce91088"
      },
      "outputs": [
        {
          "data": {
            "text/plain": [
              "4"
            ]
          },
          "execution_count": 25,
          "metadata": {},
          "output_type": "execute_result"
        }
      ],
      "source": [
        "13%9"
      ]
    },
    {
      "cell_type": "code",
      "execution_count": null,
      "metadata": {
        "colab": {
          "base_uri": "https://localhost:8080/"
        },
        "id": "ON39lFENqldg",
        "outputId": "157e4aad-997e-4813-a976-aad147206750"
      },
      "outputs": [
        {
          "data": {
            "text/plain": [
              "1"
            ]
          },
          "execution_count": 27,
          "metadata": {},
          "output_type": "execute_result"
        }
      ],
      "source": [
        "13//9"
      ]
    },
    {
      "cell_type": "code",
      "execution_count": null,
      "metadata": {
        "colab": {
          "base_uri": "https://localhost:8080/"
        },
        "id": "s64QAN81qqjU",
        "outputId": "127f8a0e-70c2-4b90-b98b-9b88aa901e8a"
      },
      "outputs": [
        {
          "data": {
            "text/plain": [
              "-4.5"
            ]
          },
          "execution_count": 30,
          "metadata": {},
          "output_type": "execute_result"
        }
      ],
      "source": [
        "-18/4"
      ]
    },
    {
      "cell_type": "code",
      "execution_count": null,
      "metadata": {
        "colab": {
          "base_uri": "https://localhost:8080/"
        },
        "id": "8EgFzQ6iq53e",
        "outputId": "4c88015f-3559-4fa6-8ad6-3378fb3e7f4c"
      },
      "outputs": [
        {
          "data": {
            "text/plain": [
              "-5"
            ]
          },
          "execution_count": 31,
          "metadata": {},
          "output_type": "execute_result"
        }
      ],
      "source": [
        "-18//4"
      ]
    },
    {
      "cell_type": "code",
      "execution_count": null,
      "metadata": {
        "colab": {
          "base_uri": "https://localhost:8080/"
        },
        "id": "jPO00CF9rsLE",
        "outputId": "7f438084-f454-4b41-d9bc-dc4da943ee97"
      },
      "outputs": [
        {
          "data": {
            "text/plain": [
              "4"
            ]
          },
          "execution_count": 33,
          "metadata": {},
          "output_type": "execute_result"
        }
      ],
      "source": [
        "18//4"
      ]
    },
    {
      "cell_type": "code",
      "execution_count": null,
      "metadata": {
        "colab": {
          "base_uri": "https://localhost:8080/"
        },
        "id": "y2m0Ncafrv1_",
        "outputId": "7f376dda-6dd1-4d66-82ec-931344f058cd"
      },
      "outputs": [
        {
          "data": {
            "text/plain": [
              "5.0"
            ]
          },
          "execution_count": 34,
          "metadata": {},
          "output_type": "execute_result"
        }
      ],
      "source": [
        "import numpy\n",
        "numpy.ceil(18/4)"
      ]
    },
    {
      "cell_type": "code",
      "execution_count": null,
      "metadata": {
        "colab": {
          "base_uri": "https://localhost:8080/"
        },
        "id": "gjTGocOdr_BL",
        "outputId": "c6187d6e-30eb-479f-dc9c-ad61d16c0b3c"
      },
      "outputs": [
        {
          "data": {
            "text/plain": [
              "False"
            ]
          },
          "execution_count": 35,
          "metadata": {},
          "output_type": "execute_result"
        }
      ],
      "source": [
        "True and True and True and False"
      ]
    },
    {
      "cell_type": "code",
      "execution_count": null,
      "metadata": {
        "colab": {
          "base_uri": "https://localhost:8080/"
        },
        "id": "7F77bGTCtWtF",
        "outputId": "182f5712-7f26-4e6a-d520-8a4d957ae4ec"
      },
      "outputs": [
        {
          "data": {
            "text/plain": [
              "True"
            ]
          },
          "execution_count": 36,
          "metadata": {},
          "output_type": "execute_result"
        }
      ],
      "source": [
        "False or False or True or False"
      ]
    },
    {
      "cell_type": "code",
      "execution_count": null,
      "metadata": {
        "colab": {
          "base_uri": "https://localhost:8080/"
        },
        "id": "XoP61McFtqBG",
        "outputId": "c3b95dff-9bc9-4de7-9071-e7a77c1a23fc"
      },
      "outputs": [
        {
          "data": {
            "text/plain": [
              "True"
            ]
          },
          "execution_count": 37,
          "metadata": {},
          "output_type": "execute_result"
        }
      ],
      "source": [
        "3==3"
      ]
    },
    {
      "cell_type": "code",
      "execution_count": null,
      "metadata": {
        "colab": {
          "base_uri": "https://localhost:8080/"
        },
        "id": "jjjX5oYGuVNE",
        "outputId": "8e42e07d-2499-43a6-8aeb-e49c08708ff7"
      },
      "outputs": [
        {
          "data": {
            "text/plain": [
              "True"
            ]
          },
          "execution_count": 38,
          "metadata": {},
          "output_type": "execute_result"
        }
      ],
      "source": [
        "3 is 3"
      ]
    },
    {
      "cell_type": "code",
      "execution_count": null,
      "metadata": {
        "colab": {
          "base_uri": "https://localhost:8080/"
        },
        "id": "W95Tpfu3uWlD",
        "outputId": "d7efbaf6-be8d-4d00-e635-b7c031ad940b"
      },
      "outputs": [
        {
          "data": {
            "text/plain": [
              "True"
            ]
          },
          "execution_count": 39,
          "metadata": {},
          "output_type": "execute_result"
        }
      ],
      "source": [
        "258 ==258"
      ]
    },
    {
      "cell_type": "code",
      "execution_count": null,
      "metadata": {
        "colab": {
          "base_uri": "https://localhost:8080/"
        },
        "id": "g_ZeaNSYucd5",
        "outputId": "1ab2c7c4-cc90-4316-dd04-bc89a6db87a0"
      },
      "outputs": [
        {
          "data": {
            "text/plain": [
              "True"
            ]
          },
          "execution_count": 40,
          "metadata": {},
          "output_type": "execute_result"
        }
      ],
      "source": [
        "258 is 258"
      ]
    },
    {
      "cell_type": "code",
      "execution_count": null,
      "metadata": {
        "colab": {
          "base_uri": "https://localhost:8080/"
        },
        "id": "DrkWtsuuufnC",
        "outputId": "a6770284-45ed-441f-b2ac-4b041e12140e"
      },
      "outputs": [
        {
          "data": {
            "text/plain": [
              "True"
            ]
          },
          "execution_count": 41,
          "metadata": {},
          "output_type": "execute_result"
        }
      ],
      "source": [
        "87438562346 is 87438562346"
      ]
    },
    {
      "cell_type": "code",
      "execution_count": null,
      "metadata": {
        "colab": {
          "base_uri": "https://localhost:8080/"
        },
        "id": "1zRf4XTvui9O",
        "outputId": "02c380c1-de22-4110-c15f-7b61d2a50156"
      },
      "outputs": [
        {
          "data": {
            "text/plain": [
              "True"
            ]
          },
          "execution_count": 42,
          "metadata": {},
          "output_type": "execute_result"
        }
      ],
      "source": [
        "k = [5,6,67,7,6,6,7,8,8]\n",
        "\n",
        "5 in k"
      ]
    },
    {
      "cell_type": "code",
      "execution_count": null,
      "metadata": {
        "colab": {
          "base_uri": "https://localhost:8080/"
        },
        "id": "qq9j3QUdu8HF",
        "outputId": "b0bc1970-98b6-4338-c862-a160b5873648"
      },
      "outputs": [
        {
          "data": {
            "text/plain": [
              "False"
            ]
          },
          "execution_count": 43,
          "metadata": {},
          "output_type": "execute_result"
        }
      ],
      "source": [
        "55 in k"
      ]
    },
    {
      "cell_type": "code",
      "execution_count": null,
      "metadata": {
        "colab": {
          "base_uri": "https://localhost:8080/"
        },
        "id": "2xOHtGveu-Bk",
        "outputId": "e4ea293e-1363-4c84-934d-b3ff64716226"
      },
      "outputs": [
        {
          "data": {
            "text/plain": [
              "True"
            ]
          },
          "execution_count": 44,
          "metadata": {},
          "output_type": "execute_result"
        }
      ],
      "source": [
        "55 not in k"
      ]
    },
    {
      "cell_type": "code",
      "execution_count": null,
      "metadata": {
        "id": "jVWinS2ZvA9c"
      },
      "outputs": [],
      "source": [
        "55 in not k"
      ]
    },
    {
      "cell_type": "markdown",
      "metadata": {
        "id": "iynqLJhcuYsp"
      },
      "source": [
        "# Application of Dictionary"
      ]
    },
    {
      "cell_type": "code",
      "execution_count": null,
      "metadata": {
        "id": "3kzQrDAYuYsq"
      },
      "outputs": [],
      "source": [
        "n = [\"Dabang\",\"Pushpa\",\"KGF\",\"DJ\",\"3-Idiot\",\"Krish\"]\n",
        "ac = [\"Salaman Khan\",\"Allu Arjun\",\"Yash\",\"Allu Arjun\",\n",
        "      (\"Amir khan\",\"Sharman Joshi\",\"R Madhavan\"),\"Hritik Roshan\"]\n",
        "act = [\"Sonakshi Sinha\",\"Rashmika\",\"Shrinidhi shetty\",\"Pooja hegde\",\"Kareena Kapur\",\"Priyanka Chopara\"]\n",
        "c = [100,300,150,250,200,300]\n",
        "\n",
        "movies  = {\"Name\":n,\"Actor\":ac,\"Actress\":act,\"Collection in cr\":c}\n",
        "\n"
      ]
    },
    {
      "cell_type": "code",
      "execution_count": null,
      "metadata": {
        "id": "SMKqm_0RuYsq",
        "outputId": "60b5412f-d30c-49b7-e0f9-1f110e946d56"
      },
      "outputs": [
        {
          "data": {
            "text/plain": [
              "{'Name': ['Dabang', 'Pushpa', 'KGF', 'DJ', '3-Idiot', 'Krish'],\n",
              " 'Actor': ['Salaman Khan',\n",
              "  'Allu Arjun',\n",
              "  'Yash',\n",
              "  'Allu Arjun',\n",
              "  ('Amir khan', 'Sharman Joshi', 'R Madhavan'),\n",
              "  'Hritik Roshan'],\n",
              " 'Actress': ['Sonakshi Sinha',\n",
              "  'Rashmika',\n",
              "  'Shrinidhi shetty',\n",
              "  'Pooja hegde',\n",
              "  'Kareena Kapur',\n",
              "  'Priyanka Chopara'],\n",
              " 'Collection in cr': [100, 300, 150, 250, 200, 300]}"
            ]
          },
          "execution_count": 14,
          "metadata": {},
          "output_type": "execute_result"
        }
      ],
      "source": [
        "movies"
      ]
    },
    {
      "cell_type": "code",
      "execution_count": null,
      "metadata": {
        "id": "bkSPKUiduYsr"
      },
      "outputs": [],
      "source": [
        "import pandas\n",
        "df = pandas.DataFrame(movies)"
      ]
    },
    {
      "cell_type": "code",
      "execution_count": null,
      "metadata": {
        "id": "vadt-DpyuYsr",
        "outputId": "02d3ac84-7e7f-4666-8202-e9a889448e53"
      },
      "outputs": [
        {
          "data": {
            "text/html": [
              "<div>\n",
              "<style scoped>\n",
              "    .dataframe tbody tr th:only-of-type {\n",
              "        vertical-align: middle;\n",
              "    }\n",
              "\n",
              "    .dataframe tbody tr th {\n",
              "        vertical-align: top;\n",
              "    }\n",
              "\n",
              "    .dataframe thead th {\n",
              "        text-align: right;\n",
              "    }\n",
              "</style>\n",
              "<table border=\"1\" class=\"dataframe\">\n",
              "  <thead>\n",
              "    <tr style=\"text-align: right;\">\n",
              "      <th></th>\n",
              "      <th>Name</th>\n",
              "      <th>Actor</th>\n",
              "      <th>Actress</th>\n",
              "      <th>Collection in cr</th>\n",
              "    </tr>\n",
              "  </thead>\n",
              "  <tbody>\n",
              "    <tr>\n",
              "      <th>0</th>\n",
              "      <td>Dabang</td>\n",
              "      <td>Salaman Khan</td>\n",
              "      <td>Sonakshi Sinha</td>\n",
              "      <td>100</td>\n",
              "    </tr>\n",
              "    <tr>\n",
              "      <th>1</th>\n",
              "      <td>Pushpa</td>\n",
              "      <td>Allu Arjun</td>\n",
              "      <td>Rashmika</td>\n",
              "      <td>300</td>\n",
              "    </tr>\n",
              "    <tr>\n",
              "      <th>2</th>\n",
              "      <td>KGF</td>\n",
              "      <td>Yash</td>\n",
              "      <td>Shrinidhi shetty</td>\n",
              "      <td>150</td>\n",
              "    </tr>\n",
              "    <tr>\n",
              "      <th>3</th>\n",
              "      <td>DJ</td>\n",
              "      <td>Allu Arjun</td>\n",
              "      <td>Pooja hegde</td>\n",
              "      <td>250</td>\n",
              "    </tr>\n",
              "    <tr>\n",
              "      <th>4</th>\n",
              "      <td>3-Idiot</td>\n",
              "      <td>(Amir khan, Sharman Joshi, R Madhavan)</td>\n",
              "      <td>Kareena Kapur</td>\n",
              "      <td>200</td>\n",
              "    </tr>\n",
              "    <tr>\n",
              "      <th>5</th>\n",
              "      <td>Krish</td>\n",
              "      <td>Hritik Roshan</td>\n",
              "      <td>Priyanka Chopara</td>\n",
              "      <td>300</td>\n",
              "    </tr>\n",
              "  </tbody>\n",
              "</table>\n",
              "</div>"
            ],
            "text/plain": [
              "      Name                                   Actor           Actress  \\\n",
              "0   Dabang                            Salaman Khan    Sonakshi Sinha   \n",
              "1   Pushpa                              Allu Arjun          Rashmika   \n",
              "2      KGF                                    Yash  Shrinidhi shetty   \n",
              "3       DJ                              Allu Arjun       Pooja hegde   \n",
              "4  3-Idiot  (Amir khan, Sharman Joshi, R Madhavan)     Kareena Kapur   \n",
              "5    Krish                           Hritik Roshan  Priyanka Chopara   \n",
              "\n",
              "   Collection in cr  \n",
              "0               100  \n",
              "1               300  \n",
              "2               150  \n",
              "3               250  \n",
              "4               200  \n",
              "5               300  "
            ]
          },
          "execution_count": 17,
          "metadata": {},
          "output_type": "execute_result"
        }
      ],
      "source": [
        "df"
      ]
    },
    {
      "cell_type": "code",
      "execution_count": null,
      "metadata": {
        "id": "7-NPkwVLuYss",
        "outputId": "ce55bc91-d9ad-4c50-b916-b76420d35172"
      },
      "outputs": [
        {
          "data": {
            "text/plain": [
              "300"
            ]
          },
          "execution_count": 20,
          "metadata": {},
          "output_type": "execute_result"
        }
      ],
      "source": [
        "df[\"Collection in cr\"].max()"
      ]
    },
    {
      "cell_type": "code",
      "execution_count": null,
      "metadata": {
        "id": "Y4FMffCjuYss",
        "outputId": "4f75b963-8a53-4b3f-f4d1-f51e0fa57f55"
      },
      "outputs": [
        {
          "data": {
            "text/html": [
              "<div>\n",
              "<style scoped>\n",
              "    .dataframe tbody tr th:only-of-type {\n",
              "        vertical-align: middle;\n",
              "    }\n",
              "\n",
              "    .dataframe tbody tr th {\n",
              "        vertical-align: top;\n",
              "    }\n",
              "\n",
              "    .dataframe thead th {\n",
              "        text-align: right;\n",
              "    }\n",
              "</style>\n",
              "<table border=\"1\" class=\"dataframe\">\n",
              "  <thead>\n",
              "    <tr style=\"text-align: right;\">\n",
              "      <th></th>\n",
              "      <th>Name</th>\n",
              "      <th>Actor</th>\n",
              "      <th>Actress</th>\n",
              "      <th>Collection in cr</th>\n",
              "    </tr>\n",
              "  </thead>\n",
              "  <tbody>\n",
              "    <tr>\n",
              "      <th>1</th>\n",
              "      <td>Pushpa</td>\n",
              "      <td>Allu Arjun</td>\n",
              "      <td>Rashmika</td>\n",
              "      <td>300</td>\n",
              "    </tr>\n",
              "    <tr>\n",
              "      <th>5</th>\n",
              "      <td>Krish</td>\n",
              "      <td>Hritik Roshan</td>\n",
              "      <td>Priyanka Chopara</td>\n",
              "      <td>300</td>\n",
              "    </tr>\n",
              "  </tbody>\n",
              "</table>\n",
              "</div>"
            ],
            "text/plain": [
              "     Name          Actor           Actress  Collection in cr\n",
              "1  Pushpa     Allu Arjun          Rashmika               300\n",
              "5   Krish  Hritik Roshan  Priyanka Chopara               300"
            ]
          },
          "execution_count": 23,
          "metadata": {},
          "output_type": "execute_result"
        }
      ],
      "source": [
        "df[df[\"Collection in cr\"]==300]"
      ]
    },
    {
      "cell_type": "markdown",
      "metadata": {
        "id": "BEOtdOmZuYst"
      },
      "source": [
        "# Task: String data type\n"
      ]
    },
    {
      "cell_type": "code",
      "execution_count": null,
      "metadata": {
        "id": "ZqeV37ZHuYst"
      },
      "outputs": [],
      "source": [
        "#n1 = \"5,000$ and 3,000$ and 7,049$\"\n",
        "\n"
      ]
    }
  ],
  "metadata": {
    "colab": {
      "collapsed_sections": [],
      "name": "Copy of Basics5_7 (1) (1).ipynb",
      "provenance": [],
      "include_colab_link": true
    },
    "kernelspec": {
      "display_name": "Python 3 (ipykernel)",
      "language": "python",
      "name": "python3"
    },
    "language_info": {
      "codemirror_mode": {
        "name": "ipython",
        "version": 3
      },
      "file_extension": ".py",
      "mimetype": "text/x-python",
      "name": "python",
      "nbconvert_exporter": "python",
      "pygments_lexer": "ipython3",
      "version": "3.9.7"
    }
  },
  "nbformat": 4,
  "nbformat_minor": 0
}